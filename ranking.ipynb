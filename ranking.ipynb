{
  "nbformat": 4,
  "nbformat_minor": 0,
  "metadata": {
    "colab": {
      "provenance": []
    },
    "kernelspec": {
      "name": "python3",
      "display_name": "Python 3"
    },
    "language_info": {
      "name": "python"
    }
  },
  "cells": [
    {
      "cell_type": "code",
      "execution_count": null,
      "metadata": {
        "colab": {
          "base_uri": "https://localhost:8080/"
        },
        "id": "N4mxGpVMACCf",
        "outputId": "4313ab5a-c353-427b-ebfb-29dd8a965bdb"
      },
      "outputs": [
        {
          "output_type": "stream",
          "name": "stdout",
          "text": [
            "Looking in indexes: https://pypi.org/simple, https://us-python.pkg.dev/colab-wheels/public/simple/\n",
            "Collecting colour\n",
            "  Downloading colour-0.1.5-py2.py3-none-any.whl (23 kB)\n",
            "Installing collected packages: colour\n",
            "Successfully installed colour-0.1.5\n"
          ]
        }
      ],
      "source": [
        "%pip install colour"
      ]
    },
    {
      "cell_type": "code",
      "source": [
        "import numpy as np\n",
        "import pandas as pd\n",
        "import math\n",
        "import requests\n",
        "import csv\n",
        "import os\n",
        "import matplotlib.pyplot as plt\n",
        "from google.colab import drive\n",
        "drive.mount('/content/drive')\n",
        "from colour import Color\n",
        "import seaborn as sns\n",
        "\n",
        "# data from https://www.pro-football-reference.com/years/2022/defense_advanced.htm"
      ],
      "metadata": {
        "colab": {
          "base_uri": "https://localhost:8080/"
        },
        "id": "xFy6smgAAHkU",
        "outputId": "94106c02-fe7d-4dff-da7b-064b249d3dc1"
      },
      "execution_count": null,
      "outputs": [
        {
          "output_type": "stream",
          "name": "stdout",
          "text": [
            "Mounted at /content/drive\n"
          ]
        }
      ]
    },
    {
      "cell_type": "code",
      "source": [
        "deftable = pd.read_csv('/content/drive/MyDrive/senior_project_2023/tablestats.txt')\n",
        "deftable.columns = deftable.iloc[0]\n",
        "deftable = deftable[1:]\n",
        "deftable = deftable.dropna()\n",
        "deftable['Player'] = deftable['Player'].str.replace(\"[+*]\",\"\")\n",
        "\n",
        "z = deftable['Pos']\n",
        "\n",
        "y = deftable['Rat'].values\n",
        "\n",
        "# deftable = deftable.drop(['Rat'], axis=1)\n",
        "deftable = deftable.drop(['Cmp%'], axis=1)\n",
        "\n",
        "\n",
        "x = deftable.iloc[:, 7:18].values"
      ],
      "metadata": {
        "colab": {
          "base_uri": "https://localhost:8080/"
        },
        "id": "7cTSUOiFAid3",
        "outputId": "ca6e5698-3468-4a12-c01b-19b15bc6421b"
      },
      "execution_count": null,
      "outputs": [
        {
          "output_type": "stream",
          "name": "stderr",
          "text": [
            "<ipython-input-3-ce020bc593ca>:5: FutureWarning: The default value of regex will change from True to False in a future version.\n",
            "  deftable['Player'] = deftable['Player'].str.replace(\"[+*]\",\"\")\n"
          ]
        }
      ]
    },
    {
      "cell_type": "code",
      "source": [
        "from sklearn.decomposition import PCA\n",
        "\n",
        "pca1 = PCA(n_components=11)\n",
        "\n",
        "principalComponents = pca1.fit_transform(x)\n",
        "\n",
        "labs = ['principal component 1', 'principal component 2', 'principal component 3', 'principal component 4', 'principal component 5',\n",
        "           'principal component 6', 'principal component 7', 'principal component 8', 'principal component 9', 'principal component 10',\n",
        "          'principal component 11']\n",
        "\n",
        "principalDf = pd.DataFrame(data = principalComponents, columns = labs)"
      ],
      "metadata": {
        "id": "QD_dxQTwB90Z"
      },
      "execution_count": null,
      "outputs": []
    },
    {
      "cell_type": "code",
      "source": [
        "from sklearn.preprocessing import StandardScaler\n",
        "\n",
        "features = list(deftable.columns)[7:18]\n",
        "\n",
        "# Standardizing the features\n",
        "x = StandardScaler().fit_transform(x)\n"
      ],
      "metadata": {
        "id": "5DW8ZEexAmBb"
      },
      "execution_count": null,
      "outputs": []
    },
    {
      "cell_type": "code",
      "source": [
        "# finalDf = pd.concat([principalDf, z], axis = 1)\n",
        "n1 = [float(i)/sum(pca1.explained_variance_) for i in pca1.explained_variance_]\n",
        "n1\n"
      ],
      "metadata": {
        "id": "lwp0sPDcHdOT",
        "colab": {
          "base_uri": "https://localhost:8080/"
        },
        "outputId": "3f7026ef-561f-4179-db1f-a70af05624ea"
      },
      "execution_count": null,
      "outputs": [
        {
          "output_type": "execute_result",
          "data": {
            "text/plain": [
              "[0.5284370795695286,\n",
              " 0.21079947142502403,\n",
              " 0.09541663779703875,\n",
              " 0.06447626302311324,\n",
              " 0.05225248400275739,\n",
              " 0.02218077032892012,\n",
              " 0.015682632897727724,\n",
              " 0.006020946436676796,\n",
              " 0.003815640160004425,\n",
              " 0.0009180743592089576,\n",
              " 1.484269628491839e-32]"
            ]
          },
          "metadata": {},
          "execution_count": 29
        }
      ]
    },
    {
      "cell_type": "code",
      "source": [
        "epf1 = plt.figure(figsize = (8,8))\n",
        "ep1 = epf1.add_subplot(1,1,1)\n",
        "ep1.bar(x = labs, height = n1, color = 'dodgerblue', edgecolor = 'black')\n",
        "ep1.set_xticklabels(labs, rotation = 90)\n",
        "ep1.set_ylabel('% Variation Explained', fontsize = 15)\n",
        "\n",
        "print(sum(n1[0:3]))\n"
      ],
      "metadata": {
        "colab": {
          "base_uri": "https://localhost:8080/",
          "height": 881
        },
        "id": "7e-Afq6_H-cP",
        "outputId": "633b3c09-9401-4e16-97a0-01c4c43cfd8e"
      },
      "execution_count": null,
      "outputs": [
        {
          "output_type": "stream",
          "name": "stderr",
          "text": [
            "<ipython-input-30-3d6fbb391de1>:4: UserWarning: FixedFormatter should only be used together with FixedLocator\n",
            "  ep1.set_xticklabels(labs, rotation = 90)\n"
          ]
        },
        {
          "output_type": "stream",
          "name": "stdout",
          "text": [
            "0.8346531887915914\n"
          ]
        },
        {
          "output_type": "display_data",
          "data": {
            "text/plain": [
              "<Figure size 800x800 with 1 Axes>"
            ],
            "image/png": "[encoded data removed]"
          },
          "metadata": {}
        }
      ]
    },
    {
      "cell_type": "code",
      "source": [
        "heights = pd.read_csv('/content/drive/MyDrive/senior_project_2023/body.csv')\n",
        "av = pd.read_csv('/content/drive/MyDrive/senior_project_2023/av.csv')\n",
        "\n",
        "drops = ['Season', 'Age', 'Team', 'G', 'GS', 'Ht..1',\n",
        "       'BMI', 'Pos', 'Draft', '-9999']\n",
        "\n",
        "heights = heights.drop(drops, axis=1)\n",
        "\n",
        "heights = heights.to_dict()\n",
        "av = av.to_dict()\n",
        "\n",
        "hdf = pd.DataFrame(heights)\n",
        "adf = pd.DataFrame(av)\n",
        "\n",
        "hdf = pd.merge(left=hdf, right=adf, on = 'Player').set_index('Player')\n"
      ],
      "metadata": {
        "id": "EbK4PUNzJP8f"
      },
      "execution_count": null,
      "outputs": []
    },
    {
      "cell_type": "code",
      "source": [
        "players = deftable.set_index('Player')\n",
        "players2 = pd.merge(left = players, right = hdf, left_on = players.index, right_on = hdf.index)\n",
        "players2 = players2.drop(['Bltz', 'Hrry', 'QBKD', 'Sk', 'Prss', 'Comb', 'MTkl', 'MTkl%', '-9999_x', '-9999_y'], axis=1)\n",
        "players2 = players2.rename({'key_0':'player'}, axis = 1)\n"
      ],
      "metadata": {
        "id": "m-BQXPzFJSmv"
      },
      "execution_count": null,
      "outputs": []
    },
    {
      "cell_type": "code",
      "source": [
        "def ht2in(ht):\n",
        "  small = ht.split('-')\n",
        "  small = [int(i) for i in small]\n",
        "  inin = 12*small[0] + small[1]\n",
        "  return inin\n",
        "\n",
        "newht = list(map(ht2in, players2['Ht.'].to_list()))\n",
        "players2['Ht.'] = newht"
      ],
      "metadata": {
        "id": "3G1zK8txqIhv"
      },
      "execution_count": null,
      "outputs": []
    },
    {
      "cell_type": "code",
      "source": [
        "players2[players2.columns[7:]] = players2[players2.columns[7:]].apply(pd.to_numeric)"
      ],
      "metadata": {
        "id": "BS6i8wAEJW-l"
      },
      "execution_count": null,
      "outputs": []
    },
    {
      "cell_type": "code",
      "source": [
        "grades = pd.read_csv('/content/drive/MyDrive/senior_project_2023/defense_summary.csv')\n",
        "grades = grades[['player', 'grades_coverage_defense', 'grades_defense', 'grades_defense_penalty', 'grades_pass_rush_defense',\n",
        "       'grades_run_defense', 'grades_tackle']]\n",
        "\n",
        "\n",
        "grades1 = pd.merge(grades, players2, on = 'player')\n",
        "\n",
        "grades2 = grades1[['player', 'grades_coverage_defense', 'grades_defense',\n",
        "                   'grades_pass_rush_defense', 'grades_run_defense', 'grades_tackle']]\n",
        "\n",
        "grades2 = grades2.dropna()\n",
        "\n",
        "grades2\n"
      ],
      "metadata": {
        "colab": {
          "base_uri": "https://localhost:8080/",
          "height": 423
        },
        "id": "qQtKjhl8JYFU",
        "outputId": "b975e42a-02e1-449d-f103-aec1b598e20b"
      },
      "execution_count": null,
      "outputs": [
        {
          "output_type": "execute_result",
          "data": {
            "text/plain": [
              "                player  grades_coverage_defense  grades_defense  \\\n",
              "0       Brandon Graham                     79.5            89.8   \n",
              "1    Jason Pierre-Paul                     59.1            56.5   \n",
              "2       Kareem Jackson                     60.9            64.5   \n",
              "3       Devin McCourty                     67.6            70.0   \n",
              "4         Jerry Hughes                     68.1            71.4   \n",
              "..                 ...                      ...             ...   \n",
              "508        Dane Belton                     42.3            32.8   \n",
              "509         Leo Chenal                     62.6            70.3   \n",
              "511   Rodney Thomas II                     54.8            54.3   \n",
              "512      Jaylen Watson                     59.9            61.2   \n",
              "513    Joshua Williams                     64.6            63.0   \n",
              "\n",
              "     grades_pass_rush_defense  grades_run_defense  grades_tackle  \n",
              "0                        89.8                69.7           44.5  \n",
              "1                        56.0                58.7           40.4  \n",
              "2                        56.7                71.3           57.4  \n",
              "3                        53.8                74.8           90.0  \n",
              "4                        71.3                59.7           25.6  \n",
              "..                        ...                 ...            ...  \n",
              "508                      47.2                28.9           72.5  \n",
              "509                      63.6                72.0           57.6  \n",
              "511                      52.5                55.4           71.5  \n",
              "512                      77.9                58.6           58.2  \n",
              "513                      41.2                67.5           58.3  \n",
              "\n",
              "[448 rows x 6 columns]"
            ],
            "text/html": [
              "\n",
              "  <div id=\"df-c2c211d9-9ae7-4e87-8bc5-2831f5ee4c4f\">\n",
              "    <div class=\"colab-df-container\">\n",
              "      <div>\n",
              "<style scoped>\n",
              "    .dataframe tbody tr th:only-of-type {\n",
              "        vertical-align: middle;\n",
              "    }\n",
              "\n",
              "    .dataframe tbody tr th {\n",
              "        vertical-align: top;\n",
              "    }\n",
              "\n",
              "    .dataframe thead th {\n",
              "        text-align: right;\n",
              "    }\n",
              "</style>\n",
              "<table border=\"1\" class=\"dataframe\">\n",
              "  <thead>\n",
              "    <tr style=\"text-align: right;\">\n",
              "      <th></th>\n",
              "      <th>player</th>\n",
              "      <th>grades_coverage_defense</th>\n",
              "      <th>grades_defense</th>\n",
              "      <th>grades_pass_rush_defense</th>\n",
              "      <th>grades_run_defense</th>\n",
              "      <th>grades_tackle</th>\n",
              "    </tr>\n",
              "  </thead>\n",
              "  <tbody>\n",
              "    <tr>\n",
              "      <th>0</th>\n",
              "      <td>Brandon Graham</td>\n",
              "      <td>79.5</td>\n",
              "      <td>89.8</td>\n",
              "      <td>89.8</td>\n",
              "      <td>69.7</td>\n",
              "      <td>44.5</td>\n",
              "    </tr>\n",
              "    <tr>\n",
              "      <th>1</th>\n",
              "      <td>Jason Pierre-Paul</td>\n",
              "      <td>59.1</td>\n",
              "      <td>56.5</td>\n",
              "      <td>56.0</td>\n",
              "      <td>58.7</td>\n",
              "      <td>40.4</td>\n",
              "    </tr>\n",
              "    <tr>\n",
              "      <th>2</th>\n",
              "      <td>Kareem Jackson</td>\n",
              "      <td>60.9</td>\n",
              "      <td>64.5</td>\n",
              "      <td>56.7</td>\n",
              "      <td>71.3</td>\n",
              "      <td>57.4</td>\n",
              "    </tr>\n",
              "    <tr>\n",
              "      <th>3</th>\n",
              "      <td>Devin McCourty</td>\n",
              "      <td>67.6</td>\n",
              "      <td>70.0</td>\n",
              "      <td>53.8</td>\n",
              "      <td>74.8</td>\n",
              "      <td>90.0</td>\n",
              "    </tr>\n",
              "    <tr>\n",
              "      <th>4</th>\n",
              "      <td>Jerry Hughes</td>\n",
              "      <td>68.1</td>\n",
              "      <td>71.4</td>\n",
              "      <td>71.3</td>\n",
              "      <td>59.7</td>\n",
              "      <td>25.6</td>\n",
              "    </tr>\n",
              "    <tr>\n",
              "      <th>...</th>\n",
              "      <td>...</td>\n",
              "      <td>...</td>\n",
              "      <td>...</td>\n",
              "      <td>...</td>\n",
              "      <td>...</td>\n",
              "      <td>...</td>\n",
              "    </tr>\n",
              "    <tr>\n",
              "      <th>508</th>\n",
              "      <td>Dane Belton</td>\n",
              "      <td>42.3</td>\n",
              "      <td>32.8</td>\n",
              "      <td>47.2</td>\n",
              "      <td>28.9</td>\n",
              "      <td>72.5</td>\n",
              "    </tr>\n",
              "    <tr>\n",
              "      <th>509</th>\n",
              "      <td>Leo Chenal</td>\n",
              "      <td>62.6</td>\n",
              "      <td>70.3</td>\n",
              "      <td>63.6</td>\n",
              "      <td>72.0</td>\n",
              "      <td>57.6</td>\n",
              "    </tr>\n",
              "    <tr>\n",
              "      <th>511</th>\n",
              "      <td>Rodney Thomas II</td>\n",
              "      <td>54.8</td>\n",
              "      <td>54.3</td>\n",
              "      <td>52.5</td>\n",
              "      <td>55.4</td>\n",
              "      <td>71.5</td>\n",
              "    </tr>\n",
              "    <tr>\n",
              "      <th>512</th>\n",
              "      <td>Jaylen Watson</td>\n",
              "      <td>59.9</td>\n",
              "      <td>61.2</td>\n",
              "      <td>77.9</td>\n",
              "      <td>58.6</td>\n",
              "      <td>58.2</td>\n",
              "    </tr>\n",
              "    <tr>\n",
              "      <th>513</th>\n",
              "      <td>Joshua Williams</td>\n",
              "      <td>64.6</td>\n",
              "      <td>63.0</td>\n",
              "      <td>41.2</td>\n",
              "      <td>67.5</td>\n",
              "      <td>58.3</td>\n",
              "    </tr>\n",
              "  </tbody>\n",
              "</table>\n",
              "<p>448 rows × 6 columns</p>\n",
              "</div>\n",
              "      <button class=\"colab-df-convert\" onclick=\"convertToInteractive('df-c2c211d9-9ae7-4e87-8bc5-2831f5ee4c4f')\"\n",
              "              title=\"Convert this dataframe to an interactive table.\"\n",
              "              style=\"display:none;\">\n",
              "        \n",
              "  <svg xmlns=\"http://www.w3.org/2000/svg\" height=\"24px\"viewBox=\"0 0 24 24\"\n",
              "       width=\"24px\">\n",
              "    <path d=\"M0 0h24v24H0V0z\" fill=\"none\"/>\n",
              "    <path d=\"M18.56 5.44l.94 2.06.94-2.06 2.06-.94-2.06-.94-.94-2.06-.94 2.06-2.06.94zm-11 1L8.5 8.5l.94-2.06 2.06-.94-2.06-.94L8.5 2.5l-.94 2.06-2.06.94zm10 10l.94 2.06.94-2.06 2.06-.94-2.06-.94-.94-2.06-.94 2.06-2.06.94z\"/><path d=\"M17.41 7.96l-1.37-1.37c-.4-.4-.92-.59-1.43-.59-.52 0-1.04.2-1.43.59L10.3 9.45l-7.72 7.72c-.78.78-.78 2.05 0 2.83L4 21.41c.39.39.9.59 1.41.59.51 0 1.02-.2 1.41-.59l7.78-7.78 2.81-2.81c.8-.78.8-2.07 0-2.86zM5.41 20L4 18.59l7.72-7.72 1.47 1.35L5.41 20z\"/>\n",
              "  </svg>\n",
              "      </button>\n",
              "      \n",
              "  <style>\n",
              "    .colab-df-container {\n",
              "      display:flex;\n",
              "      flex-wrap:wrap;\n",
              "      gap: 12px;\n",
              "    }\n",
              "\n",
              "    .colab-df-convert {\n",
              "      background-color: #E8F0FE;\n",
              "      border: none;\n",
              "      border-radius: 50%;\n",
              "      cursor: pointer;\n",
              "      display: none;\n",
              "      fill: #1967D2;\n",
              "      height: 32px;\n",
              "      padding: 0 0 0 0;\n",
              "      width: 32px;\n",
              "    }\n",
              "\n",
              "    .colab-df-convert:hover {\n",
              "      background-color: #E2EBFA;\n",
              "      box-shadow: 0px 1px 2px rgba(60, 64, 67, 0.3), 0px 1px 3px 1px rgba(60, 64, 67, 0.15);\n",
              "      fill: #174EA6;\n",
              "    }\n",
              "\n",
              "    [theme=dark] .colab-df-convert {\n",
              "      background-color: #3B4455;\n",
              "      fill: #D2E3FC;\n",
              "    }\n",
              "\n",
              "    [theme=dark] .colab-df-convert:hover {\n",
              "      background-color: #434B5C;\n",
              "      box-shadow: 0px 1px 3px 1px rgba(0, 0, 0, 0.15);\n",
              "      filter: drop-shadow(0px 1px 2px rgba(0, 0, 0, 0.3));\n",
              "      fill: #FFFFFF;\n",
              "    }\n",
              "  </style>\n",
              "\n",
              "      <script>\n",
              "        const buttonEl =\n",
              "          document.querySelector('#df-c2c211d9-9ae7-4e87-8bc5-2831f5ee4c4f button.colab-df-convert');\n",
              "        buttonEl.style.display =\n",
              "          google.colab.kernel.accessAllowed ? 'block' : 'none';\n",
              "\n",
              "        async function convertToInteractive(key) {\n",
              "          const element = document.querySelector('#df-c2c211d9-9ae7-4e87-8bc5-2831f5ee4c4f');\n",
              "          const dataTable =\n",
              "            await google.colab.kernel.invokeFunction('convertToInteractive',\n",
              "                                                     [key], {});\n",
              "          if (!dataTable) return;\n",
              "\n",
              "          const docLinkHtml = 'Like what you see? Visit the ' +\n",
              "            '<a target=\"_blank\" href=https://colab.research.google.com/notebooks/data_table.ipynb>data table notebook</a>'\n",
              "            + ' to learn more about interactive tables.';\n",
              "          element.innerHTML = '';\n",
              "          dataTable['output_type'] = 'display_data';\n",
              "          await google.colab.output.renderOutput(dataTable, element);\n",
              "          const docLink = document.createElement('div');\n",
              "          docLink.innerHTML = docLinkHtml;\n",
              "          element.appendChild(docLink);\n",
              "        }\n",
              "      </script>\n",
              "    </div>\n",
              "  </div>\n",
              "  "
            ]
          },
          "metadata": {},
          "execution_count": 12
        }
      ]
    },
    {
      "cell_type": "code",
      "source": [
        "players2"
      ],
      "metadata": {
        "colab": {
          "base_uri": "https://localhost:8080/",
          "height": 423
        },
        "id": "h484CAVfrv39",
        "outputId": "6fae3b22-b750-4c03-c4fb-e0ef9ad0f08a"
      },
      "execution_count": null,
      "outputs": [
        {
          "output_type": "execute_result",
          "data": {
            "text/plain": [
              "               player   Rk   Tm Age Pos   G  GS  Int  Tgt  Cmp  ...  Yds/Cmp  \\\n",
              "0    Foyesade Oluokun    1  JAX  27  LB  17  17    0   90   71  ...      7.9   \n",
              "1         Nick Bolton    2  KAN  22  LB  17  17    2   74   61  ...      9.5   \n",
              "2       Jordyn Brooks    3  SEA  25  LB  16  16    0   75   54  ...     12.8   \n",
              "3        Roquan Smith    4  2TM  25  LB  17  17    3   69   49  ...      8.6   \n",
              "4      Zaire Franklin    5  IND  26  LB  17  17    0   73   55  ...      8.3   \n",
              "..                ...  ...  ...  ..  ..  ..  ..  ...  ...  ...  ...      ...   \n",
              "540       Chase Lucas  886  DET  25  CB   6   0    0    1    1  ...      6.0   \n",
              "541   Darius Phillips  890  DEN  27  CB   9   0    0    1    1  ...      5.0   \n",
              "542  Channing Tindall  893  MIA  22  LB  16   0    0    1    1  ...      9.0   \n",
              "543   Joshuah Bledsoe  900  NWE  24   S   3   0    0    4    2  ...      8.5   \n",
              "544       Jeff Gunter  911  CIN  23  DE  10   0    0    1    1  ...     21.0   \n",
              "\n",
              "     Yds/Tgt  TD    Rat  DADOT  Air  YAC  Ht.  Wt.  AV  \n",
              "0        6.2   1   96.3    3.4  187  374   74  215   8  \n",
              "1        7.8   1   92.6    3.7  214  366   72  237   7  \n",
              "2        9.2   5  122.6    5.0  194  495   72  240   7  \n",
              "3        6.1   2   78.1    4.4  153  266   73  232  17  \n",
              "4        6.3   0   91.1    2.9  102  357   72  235   8  \n",
              "..       ...  ..    ...    ...  ...  ...  ...  ...  ..  \n",
              "540      6.0   0   91.7    3.0    3    3   72  185   0  \n",
              "541      5.0   0   87.5   -7.0   -7   12   70  190   0  \n",
              "542      9.0   0  104.2    6.0    6    3   74  230   1  \n",
              "543      4.3   2  101.0   19.3   17    0   72  200   0  \n",
              "544     21.0   0  118.7    0.0    0   21   76  263   1  \n",
              "\n",
              "[545 rows x 21 columns]"
            ],
            "text/html": [
              "\n",
              "  <div id=\"df-d95a97e6-812b-4714-aae1-3a25e51641ea\">\n",
              "    <div class=\"colab-df-container\">\n",
              "      <div>\n",
              "<style scoped>\n",
              "    .dataframe tbody tr th:only-of-type {\n",
              "        vertical-align: middle;\n",
              "    }\n",
              "\n",
              "    .dataframe tbody tr th {\n",
              "        vertical-align: top;\n",
              "    }\n",
              "\n",
              "    .dataframe thead th {\n",
              "        text-align: right;\n",
              "    }\n",
              "</style>\n",
              "<table border=\"1\" class=\"dataframe\">\n",
              "  <thead>\n",
              "    <tr style=\"text-align: right;\">\n",
              "      <th></th>\n",
              "      <th>player</th>\n",
              "      <th>Rk</th>\n",
              "      <th>Tm</th>\n",
              "      <th>Age</th>\n",
              "      <th>Pos</th>\n",
              "      <th>G</th>\n",
              "      <th>GS</th>\n",
              "      <th>Int</th>\n",
              "      <th>Tgt</th>\n",
              "      <th>Cmp</th>\n",
              "      <th>...</th>\n",
              "      <th>Yds/Cmp</th>\n",
              "      <th>Yds/Tgt</th>\n",
              "      <th>TD</th>\n",
              "      <th>Rat</th>\n",
              "      <th>DADOT</th>\n",
              "      <th>Air</th>\n",
              "      <th>YAC</th>\n",
              "      <th>Ht.</th>\n",
              "      <th>Wt.</th>\n",
              "      <th>AV</th>\n",
              "    </tr>\n",
              "  </thead>\n",
              "  <tbody>\n",
              "    <tr>\n",
              "      <th>0</th>\n",
              "      <td>Foyesade Oluokun</td>\n",
              "      <td>1</td>\n",
              "      <td>JAX</td>\n",
              "      <td>27</td>\n",
              "      <td>LB</td>\n",
              "      <td>17</td>\n",
              "      <td>17</td>\n",
              "      <td>0</td>\n",
              "      <td>90</td>\n",
              "      <td>71</td>\n",
              "      <td>...</td>\n",
              "      <td>7.9</td>\n",
              "      <td>6.2</td>\n",
              "      <td>1</td>\n",
              "      <td>96.3</td>\n",
              "      <td>3.4</td>\n",
              "      <td>187</td>\n",
              "      <td>374</td>\n",
              "      <td>74</td>\n",
              "      <td>215</td>\n",
              "      <td>8</td>\n",
              "    </tr>\n",
              "    <tr>\n",
              "      <th>1</th>\n",
              "      <td>Nick Bolton</td>\n",
              "      <td>2</td>\n",
              "      <td>KAN</td>\n",
              "      <td>22</td>\n",
              "      <td>LB</td>\n",
              "      <td>17</td>\n",
              "      <td>17</td>\n",
              "      <td>2</td>\n",
              "      <td>74</td>\n",
              "      <td>61</td>\n",
              "      <td>...</td>\n",
              "      <td>9.5</td>\n",
              "      <td>7.8</td>\n",
              "      <td>1</td>\n",
              "      <td>92.6</td>\n",
              "      <td>3.7</td>\n",
              "      <td>214</td>\n",
              "      <td>366</td>\n",
              "      <td>72</td>\n",
              "      <td>237</td>\n",
              "      <td>7</td>\n",
              "    </tr>\n",
              "    <tr>\n",
              "      <th>2</th>\n",
              "      <td>Jordyn Brooks</td>\n",
              "      <td>3</td>\n",
              "      <td>SEA</td>\n",
              "      <td>25</td>\n",
              "      <td>LB</td>\n",
              "      <td>16</td>\n",
              "      <td>16</td>\n",
              "      <td>0</td>\n",
              "      <td>75</td>\n",
              "      <td>54</td>\n",
              "      <td>...</td>\n",
              "      <td>12.8</td>\n",
              "      <td>9.2</td>\n",
              "      <td>5</td>\n",
              "      <td>122.6</td>\n",
              "      <td>5.0</td>\n",
              "      <td>194</td>\n",
              "      <td>495</td>\n",
              "      <td>72</td>\n",
              "      <td>240</td>\n",
              "      <td>7</td>\n",
              "    </tr>\n",
              "    <tr>\n",
              "      <th>3</th>\n",
              "      <td>Roquan Smith</td>\n",
              "      <td>4</td>\n",
              "      <td>2TM</td>\n",
              "      <td>25</td>\n",
              "      <td>LB</td>\n",
              "      <td>17</td>\n",
              "      <td>17</td>\n",
              "      <td>3</td>\n",
              "      <td>69</td>\n",
              "      <td>49</td>\n",
              "      <td>...</td>\n",
              "      <td>8.6</td>\n",
              "      <td>6.1</td>\n",
              "      <td>2</td>\n",
              "      <td>78.1</td>\n",
              "      <td>4.4</td>\n",
              "      <td>153</td>\n",
              "      <td>266</td>\n",
              "      <td>73</td>\n",
              "      <td>232</td>\n",
              "      <td>17</td>\n",
              "    </tr>\n",
              "    <tr>\n",
              "      <th>4</th>\n",
              "      <td>Zaire Franklin</td>\n",
              "      <td>5</td>\n",
              "      <td>IND</td>\n",
              "      <td>26</td>\n",
              "      <td>LB</td>\n",
              "      <td>17</td>\n",
              "      <td>17</td>\n",
              "      <td>0</td>\n",
              "      <td>73</td>\n",
              "      <td>55</td>\n",
              "      <td>...</td>\n",
              "      <td>8.3</td>\n",
              "      <td>6.3</td>\n",
              "      <td>0</td>\n",
              "      <td>91.1</td>\n",
              "      <td>2.9</td>\n",
              "      <td>102</td>\n",
              "      <td>357</td>\n",
              "      <td>72</td>\n",
              "      <td>235</td>\n",
              "      <td>8</td>\n",
              "    </tr>\n",
              "    <tr>\n",
              "      <th>...</th>\n",
              "      <td>...</td>\n",
              "      <td>...</td>\n",
              "      <td>...</td>\n",
              "      <td>...</td>\n",
              "      <td>...</td>\n",
              "      <td>...</td>\n",
              "      <td>...</td>\n",
              "      <td>...</td>\n",
              "      <td>...</td>\n",
              "      <td>...</td>\n",
              "      <td>...</td>\n",
              "      <td>...</td>\n",
              "      <td>...</td>\n",
              "      <td>...</td>\n",
              "      <td>...</td>\n",
              "      <td>...</td>\n",
              "      <td>...</td>\n",
              "      <td>...</td>\n",
              "      <td>...</td>\n",
              "      <td>...</td>\n",
              "      <td>...</td>\n",
              "    </tr>\n",
              "    <tr>\n",
              "      <th>540</th>\n",
              "      <td>Chase Lucas</td>\n",
              "      <td>886</td>\n",
              "      <td>DET</td>\n",
              "      <td>25</td>\n",
              "      <td>CB</td>\n",
              "      <td>6</td>\n",
              "      <td>0</td>\n",
              "      <td>0</td>\n",
              "      <td>1</td>\n",
              "      <td>1</td>\n",
              "      <td>...</td>\n",
              "      <td>6.0</td>\n",
              "      <td>6.0</td>\n",
              "      <td>0</td>\n",
              "      <td>91.7</td>\n",
              "      <td>3.0</td>\n",
              "      <td>3</td>\n",
              "      <td>3</td>\n",
              "      <td>72</td>\n",
              "      <td>185</td>\n",
              "      <td>0</td>\n",
              "    </tr>\n",
              "    <tr>\n",
              "      <th>541</th>\n",
              "      <td>Darius Phillips</td>\n",
              "      <td>890</td>\n",
              "      <td>DEN</td>\n",
              "      <td>27</td>\n",
              "      <td>CB</td>\n",
              "      <td>9</td>\n",
              "      <td>0</td>\n",
              "      <td>0</td>\n",
              "      <td>1</td>\n",
              "      <td>1</td>\n",
              "      <td>...</td>\n",
              "      <td>5.0</td>\n",
              "      <td>5.0</td>\n",
              "      <td>0</td>\n",
              "      <td>87.5</td>\n",
              "      <td>-7.0</td>\n",
              "      <td>-7</td>\n",
              "      <td>12</td>\n",
              "      <td>70</td>\n",
              "      <td>190</td>\n",
              "      <td>0</td>\n",
              "    </tr>\n",
              "    <tr>\n",
              "      <th>542</th>\n",
              "      <td>Channing Tindall</td>\n",
              "      <td>893</td>\n",
              "      <td>MIA</td>\n",
              "      <td>22</td>\n",
              "      <td>LB</td>\n",
              "      <td>16</td>\n",
              "      <td>0</td>\n",
              "      <td>0</td>\n",
              "      <td>1</td>\n",
              "      <td>1</td>\n",
              "      <td>...</td>\n",
              "      <td>9.0</td>\n",
              "      <td>9.0</td>\n",
              "      <td>0</td>\n",
              "      <td>104.2</td>\n",
              "      <td>6.0</td>\n",
              "      <td>6</td>\n",
              "      <td>3</td>\n",
              "      <td>74</td>\n",
              "      <td>230</td>\n",
              "      <td>1</td>\n",
              "    </tr>\n",
              "    <tr>\n",
              "      <th>543</th>\n",
              "      <td>Joshuah Bledsoe</td>\n",
              "      <td>900</td>\n",
              "      <td>NWE</td>\n",
              "      <td>24</td>\n",
              "      <td>S</td>\n",
              "      <td>3</td>\n",
              "      <td>0</td>\n",
              "      <td>0</td>\n",
              "      <td>4</td>\n",
              "      <td>2</td>\n",
              "      <td>...</td>\n",
              "      <td>8.5</td>\n",
              "      <td>4.3</td>\n",
              "      <td>2</td>\n",
              "      <td>101.0</td>\n",
              "      <td>19.3</td>\n",
              "      <td>17</td>\n",
              "      <td>0</td>\n",
              "      <td>72</td>\n",
              "      <td>200</td>\n",
              "      <td>0</td>\n",
              "    </tr>\n",
              "    <tr>\n",
              "      <th>544</th>\n",
              "      <td>Jeff Gunter</td>\n",
              "      <td>911</td>\n",
              "      <td>CIN</td>\n",
              "      <td>23</td>\n",
              "      <td>DE</td>\n",
              "      <td>10</td>\n",
              "      <td>0</td>\n",
              "      <td>0</td>\n",
              "      <td>1</td>\n",
              "      <td>1</td>\n",
              "      <td>...</td>\n",
              "      <td>21.0</td>\n",
              "      <td>21.0</td>\n",
              "      <td>0</td>\n",
              "      <td>118.7</td>\n",
              "      <td>0.0</td>\n",
              "      <td>0</td>\n",
              "      <td>21</td>\n",
              "      <td>76</td>\n",
              "      <td>263</td>\n",
              "      <td>1</td>\n",
              "    </tr>\n",
              "  </tbody>\n",
              "</table>\n",
              "<p>545 rows × 21 columns</p>\n",
              "</div>\n",
              "      <button class=\"colab-df-convert\" onclick=\"convertToInteractive('df-d95a97e6-812b-4714-aae1-3a25e51641ea')\"\n",
              "              title=\"Convert this dataframe to an interactive table.\"\n",
              "              style=\"display:none;\">\n",
              "        \n",
              "  <svg xmlns=\"http://www.w3.org/2000/svg\" height=\"24px\"viewBox=\"0 0 24 24\"\n",
              "       width=\"24px\">\n",
              "    <path d=\"M0 0h24v24H0V0z\" fill=\"none\"/>\n",
              "    <path d=\"M18.56 5.44l.94 2.06.94-2.06 2.06-.94-2.06-.94-.94-2.06-.94 2.06-2.06.94zm-11 1L8.5 8.5l.94-2.06 2.06-.94-2.06-.94L8.5 2.5l-.94 2.06-2.06.94zm10 10l.94 2.06.94-2.06 2.06-.94-2.06-.94-.94-2.06-.94 2.06-2.06.94z\"/><path d=\"M17.41 7.96l-1.37-1.37c-.4-.4-.92-.59-1.43-.59-.52 0-1.04.2-1.43.59L10.3 9.45l-7.72 7.72c-.78.78-.78 2.05 0 2.83L4 21.41c.39.39.9.59 1.41.59.51 0 1.02-.2 1.41-.59l7.78-7.78 2.81-2.81c.8-.78.8-2.07 0-2.86zM5.41 20L4 18.59l7.72-7.72 1.47 1.35L5.41 20z\"/>\n",
              "  </svg>\n",
              "      </button>\n",
              "      \n",
              "  <style>\n",
              "    .colab-df-container {\n",
              "      display:flex;\n",
              "      flex-wrap:wrap;\n",
              "      gap: 12px;\n",
              "    }\n",
              "\n",
              "    .colab-df-convert {\n",
              "      background-color: #E8F0FE;\n",
              "      border: none;\n",
              "      border-radius: 50%;\n",
              "      cursor: pointer;\n",
              "      display: none;\n",
              "      fill: #1967D2;\n",
              "      height: 32px;\n",
              "      padding: 0 0 0 0;\n",
              "      width: 32px;\n",
              "    }\n",
              "\n",
              "    .colab-df-convert:hover {\n",
              "      background-color: #E2EBFA;\n",
              "      box-shadow: 0px 1px 2px rgba(60, 64, 67, 0.3), 0px 1px 3px 1px rgba(60, 64, 67, 0.15);\n",
              "      fill: #174EA6;\n",
              "    }\n",
              "\n",
              "    [theme=dark] .colab-df-convert {\n",
              "      background-color: #3B4455;\n",
              "      fill: #D2E3FC;\n",
              "    }\n",
              "\n",
              "    [theme=dark] .colab-df-convert:hover {\n",
              "      background-color: #434B5C;\n",
              "      box-shadow: 0px 1px 3px 1px rgba(0, 0, 0, 0.15);\n",
              "      filter: drop-shadow(0px 1px 2px rgba(0, 0, 0, 0.3));\n",
              "      fill: #FFFFFF;\n",
              "    }\n",
              "  </style>\n",
              "\n",
              "      <script>\n",
              "        const buttonEl =\n",
              "          document.querySelector('#df-d95a97e6-812b-4714-aae1-3a25e51641ea button.colab-df-convert');\n",
              "        buttonEl.style.display =\n",
              "          google.colab.kernel.accessAllowed ? 'block' : 'none';\n",
              "\n",
              "        async function convertToInteractive(key) {\n",
              "          const element = document.querySelector('#df-d95a97e6-812b-4714-aae1-3a25e51641ea');\n",
              "          const dataTable =\n",
              "            await google.colab.kernel.invokeFunction('convertToInteractive',\n",
              "                                                     [key], {});\n",
              "          if (!dataTable) return;\n",
              "\n",
              "          const docLinkHtml = 'Like what you see? Visit the ' +\n",
              "            '<a target=\"_blank\" href=https://colab.research.google.com/notebooks/data_table.ipynb>data table notebook</a>'\n",
              "            + ' to learn more about interactive tables.';\n",
              "          element.innerHTML = '';\n",
              "          dataTable['output_type'] = 'display_data';\n",
              "          await google.colab.output.renderOutput(dataTable, element);\n",
              "          const docLink = document.createElement('div');\n",
              "          docLink.innerHTML = docLinkHtml;\n",
              "          element.appendChild(docLink);\n",
              "        }\n",
              "      </script>\n",
              "    </div>\n",
              "  </div>\n",
              "  "
            ]
          },
          "metadata": {},
          "execution_count": 13
        }
      ]
    },
    {
      "cell_type": "code",
      "source": [
        "gpca = PCA(n_components=5)\n",
        "\n",
        "x2 = grades2.iloc[:, 1:].values\n",
        "\n",
        "principalComponents2 = gpca.fit_transform(x2)\n",
        "\n",
        "labs2 = ['principal component 1', 'principal component 2', 'principal component 3', 'principal component 4', 'principal component 5']\n",
        "\n",
        "principalDf2 = pd.DataFrame(data = principalComponents2, columns = labs2)"
      ],
      "metadata": {
        "id": "Tmqg5liVJiLi"
      },
      "execution_count": null,
      "outputs": []
    },
    {
      "cell_type": "code",
      "source": [
        "features2 = list(grades2.columns)[2:]\n",
        "\n",
        "# Standardizing the features\n",
        "x2 = StandardScaler().fit_transform(x2)\n",
        "\n",
        "# finalDf2 = pd.concat([principalDf2, z], axis = 1)\n",
        "# finalDf2"
      ],
      "metadata": {
        "id": "et7RpUAqLsog"
      },
      "execution_count": null,
      "outputs": []
    },
    {
      "cell_type": "code",
      "source": [
        "n2 = [float(i)/sum(gpca.explained_variance_) for i in gpca.explained_variance_]\n",
        "n2"
      ],
      "metadata": {
        "colab": {
          "base_uri": "https://localhost:8080/"
        },
        "id": "VT_qP8SEqn4f",
        "outputId": "eb89c925-8d1f-42b5-9f65-314f404d2b76"
      },
      "execution_count": null,
      "outputs": [
        {
          "output_type": "execute_result",
          "data": {
            "text/plain": [
              "[0.4835043274964577,\n",
              " 0.23259730368730333,\n",
              " 0.1524361038694657,\n",
              " 0.11429953705426568,\n",
              " 0.017162727892507546]"
            ]
          },
          "metadata": {},
          "execution_count": 16
        }
      ]
    },
    {
      "cell_type": "code",
      "source": [
        "pcas = PCA(n_components=14)\n",
        "\n",
        "x3 = players2.iloc[:, 5:].values\n",
        "\n",
        "principalComponents3 = pcas.fit_transform(x3)\n",
        "\n",
        "labs3 = ['principal component 1', 'principal component 2', 'principal component 3', 'principal component 4', 'principal component 5',\n",
        "           'principal component 6', 'principal component 7', 'principal component 8', 'principal component 9', 'principal component 10',\n",
        "          'principal component 11', 'principal component 12', 'principal component 13', 'principal component 14']\n",
        "\n",
        "principalDf3 = pd.DataFrame(data = principalComponents3, columns = labs3)"
      ],
      "metadata": {
        "id": "hUfc9lgrrSHy"
      },
      "execution_count": null,
      "outputs": []
    },
    {
      "cell_type": "code",
      "source": [
        "features3 = list(players2.columns)[5:]\n",
        "\n",
        "# Standardizing the features\n",
        "x3 = StandardScaler().fit_transform(x3)\n"
      ],
      "metadata": {
        "id": "fmjdCo1jvHk6"
      },
      "execution_count": null,
      "outputs": []
    },
    {
      "cell_type": "code",
      "source": [
        "n3 = [float(i)/sum(pcas.explained_variance_) for i in pcas.explained_variance_]\n",
        "n3"
      ],
      "metadata": {
        "colab": {
          "base_uri": "https://localhost:8080/"
        },
        "id": "nHYZrP2OvPc6",
        "outputId": "d9f95c4e-e0f7-4493-94ac-fb508c9e3f06"
      },
      "execution_count": null,
      "outputs": [
        {
          "output_type": "execute_result",
          "data": {
            "text/plain": [
              "[0.918119302827579,\n",
              " 0.05754099029615263,\n",
              " 0.013926908755371666,\n",
              " 0.008073510477651306,\n",
              " 0.0009545924732124798,\n",
              " 0.0005052719550517733,\n",
              " 0.0003922977352848753,\n",
              " 0.00017452082929859703,\n",
              " 0.0001304167483483404,\n",
              " 7.553323819676781e-05,\n",
              " 3.6646162696809876e-05,\n",
              " 3.5183617812240296e-05,\n",
              " 1.8078666855121082e-05,\n",
              " 1.6746216487876266e-05]"
            ]
          },
          "metadata": {},
          "execution_count": 19
        }
      ]
    },
    {
      "cell_type": "code",
      "source": [
        "epf1 = plt.figure(figsize = (8,8))\n",
        "ep1 = epf1.add_subplot(1,1,1)\n",
        "ep1.bar(x = labs, height = n1, color = 'dodgerblue', edgecolor = 'black')\n",
        "ep1.set_xticklabels(labs, rotation = 90)\n",
        "ep1.set_ylabel('% Variation Explained', fontsize = 15)\n",
        "\n",
        "print(sum(n1[0:3]))"
      ],
      "metadata": {
        "colab": {
          "base_uri": "https://localhost:8080/",
          "height": 881
        },
        "id": "6I2PXRPtvrhj",
        "outputId": "76e9c17c-4934-4cd5-a504-8a0899608157"
      },
      "execution_count": null,
      "outputs": [
        {
          "output_type": "stream",
          "name": "stderr",
          "text": [
            "<ipython-input-20-3d6fbb391de1>:4: UserWarning: FixedFormatter should only be used together with FixedLocator\n",
            "  ep1.set_xticklabels(labs, rotation = 90)\n"
          ]
        },
        {
          "output_type": "stream",
          "name": "stdout",
          "text": [
            "0.9980695822752795\n"
          ]
        },
        {
          "output_type": "display_data",
          "data": {
            "text/plain": [
              "<Figure size 800x800 with 1 Axes>"
            ],
            "image/png": "[encoded data removed]"
          },
          "metadata": {}
        }
      ]
    },
    {
      "cell_type": "code",
      "source": [
        "epf2 = plt.figure(figsize = (8,8))\n",
        "ep2 = epf2.add_subplot(1,1,1)\n",
        "ep2.bar(x = labs2, height = n2, color = 'hotpink', edgecolor = 'black')\n",
        "ep2.set_xticklabels(labs2, rotation = 90)\n",
        "ep2.set_ylabel('% Variation Explained', fontsize = 15)\n",
        "\n",
        "print(sum(n2[0:3]))"
      ],
      "metadata": {
        "colab": {
          "base_uri": "https://localhost:8080/",
          "height": 872
        },
        "id": "QNBYD8Hzvblt",
        "outputId": "b931bc5d-a799-4d38-baa9-9c5472157cd5"
      },
      "execution_count": null,
      "outputs": [
        {
          "output_type": "stream",
          "name": "stderr",
          "text": [
            "<ipython-input-21-510213694fba>:4: UserWarning: FixedFormatter should only be used together with FixedLocator\n",
            "  ep2.set_xticklabels(labs2, rotation = 90)\n"
          ]
        },
        {
          "output_type": "stream",
          "name": "stdout",
          "text": [
            "0.8685377350532267\n"
          ]
        },
        {
          "output_type": "display_data",
          "data": {
            "text/plain": [
              "<Figure size 800x800 with 1 Axes>"
            ],
            "image/png": "[encoded data removed]"
          },
          "metadata": {}
        }
      ]
    },
    {
      "cell_type": "code",
      "source": [
        "epf3 = plt.figure(figsize = (8,8))\n",
        "ep3 = epf3.add_subplot(1,1,1)\n",
        "ep3.bar(x = labs3, height = n3, color = 'green', edgecolor = 'black')\n",
        "ep3.set_xticklabels(labs3, rotation = 90)\n",
        "ep3.set_ylabel('% Variation Explained', fontsize = 15)\n",
        "\n",
        "print(sum(n3[0:3]))"
      ],
      "metadata": {
        "colab": {
          "base_uri": "https://localhost:8080/",
          "height": 881
        },
        "id": "KjVA94Awv85L",
        "outputId": "18988512-ad11-4fe4-e0a5-36988dbb6889"
      },
      "execution_count": null,
      "outputs": [
        {
          "output_type": "stream",
          "name": "stderr",
          "text": [
            "<ipython-input-22-e6facc7bde01>:4: UserWarning: FixedFormatter should only be used together with FixedLocator\n",
            "  ep3.set_xticklabels(labs3, rotation = 90)\n"
          ]
        },
        {
          "output_type": "stream",
          "name": "stdout",
          "text": [
            "0.9895872018791033\n"
          ]
        },
        {
          "output_type": "display_data",
          "data": {
            "text/plain": [
              "<Figure size 800x800 with 1 Axes>"
            ],
            "image/png": "[encoded data removed]"
          },
          "metadata": {}
        }
      ]
    }
  ]
}